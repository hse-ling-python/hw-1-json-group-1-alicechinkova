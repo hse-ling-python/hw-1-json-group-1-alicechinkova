{
 "cells": [
  {
   "cell_type": "markdown",
   "metadata": {},
   "source": [
    "# Задание 1"
   ]
  },
  {
   "cell_type": "code",
   "execution_count": 177,
   "metadata": {},
   "outputs": [],
   "source": [
    "import json\n",
    "import re\n",
    "import collections\n",
    "\n",
    "twitter = []\n",
    "for line in open('hw_3_twitter.json'):\n",
    "    twitter.append(json.loads(line))"
   ]
  },
  {
   "cell_type": "code",
   "execution_count": 178,
   "metadata": {},
   "outputs": [
    {
     "name": "stdout",
     "output_type": "stream",
     "text": [
      "Всего твитов: 2556\n"
     ]
    }
   ],
   "source": [
    "twits = len(twitter)   \n",
    "print('Всего твитов:', twits)"
   ]
  },
  {
   "cell_type": "markdown",
   "metadata": {},
   "source": [
    "# Задание 2"
   ]
  },
  {
   "cell_type": "code",
   "execution_count": 179,
   "metadata": {},
   "outputs": [
    {
     "name": "stdout",
     "output_type": "stream",
     "text": [
      "Процент удаленных твитов: 14.162754303599375 %\n"
     ]
    }
   ],
   "source": [
    "deleted_twits = 0\n",
    "for line in twitter:\n",
    "    for key in line:\n",
    "        if key == 'delete':\n",
    "            deleted_twits += 1\n",
    "procent = deleted_twits*100/twits\n",
    "print('Процент удаленных твитов:', procent, '%')"
   ]
  },
  {
   "cell_type": "markdown",
   "metadata": {},
   "source": [
    "# Задание 3"
   ]
  },
  {
   "cell_type": "code",
   "execution_count": 180,
   "metadata": {},
   "outputs": [],
   "source": [
    "langs = []\n",
    "for line in twitter:\n",
    "    if 'lang' in line:\n",
    "        langs.append(line['lang'])\n",
    "languages = collections.Counter(langs)"
   ]
  },
  {
   "cell_type": "code",
   "execution_count": 181,
   "metadata": {},
   "outputs": [
    {
     "name": "stdout",
     "output_type": "stream",
     "text": [
      "Топ-10 популярных языков твитов: [('en', 719), ('ja', 438), ('es', 173), ('ko', 149), ('th', 123), ('ar', 119), ('und', 117), ('in', 71), ('pt', 69), ('fr', 35)]\n"
     ]
    }
   ],
   "source": [
    "list_of_languages = list(languages.items())\n",
    "list_of_languages.sort(key=lambda i: i[1]) #сортирую список\n",
    "list_of_languages = list_of_languages[::-1] #переворачиваю его,чтобы было от большего значения к меньшему\n",
    "print('Топ-10 популярных языков твитов:', list_of_languages[:10]) #печатаю 10 первых языков"
   ]
  },
  {
   "cell_type": "markdown",
   "metadata": {},
   "source": [
    "# Задание 4"
   ]
  },
  {
   "cell_type": "code",
   "execution_count": 251,
   "metadata": {},
   "outputs": [
    {
     "name": "stdout",
     "output_type": "stream",
     "text": [
      "Количество пользователей, написавших больше 1 твита: 25\n"
     ]
    }
   ],
   "source": [
    "users = []\n",
    "for line in twitter:\n",
    "    for key in line:\n",
    "        if key == 'user':\n",
    "            value = line[key]\n",
    "            for key in value:\n",
    "                if key == 'id':\n",
    "                    users.append(value['id']) #вытаскиваю id польователей\n",
    "                    \n",
    "names = collections.Counter(users) #создаю частотный список id\n",
    "number_of_users = 0\n",
    "for i in names.values(): #узнаю, сколько пользователей встречаются больше одного раза\n",
    "    if i > 1:\n",
    "        number_of_users += 1\n",
    "print('Количество пользователей, написавших больше 1 твита:', number_of_users)       \n",
    "                "
   ]
  },
  {
   "cell_type": "markdown",
   "metadata": {},
   "source": [
    "# Задание 5"
   ]
  },
  {
   "cell_type": "code",
   "execution_count": 305,
   "metadata": {},
   "outputs": [
    {
     "name": "stdout",
     "output_type": "stream",
     "text": [
      "Топ-20 популярных языков хэштегов: [('BTS', 17), ('방탄소년단', 13), ('AMAs', 11), ('人気投票ガチャ', 8), ('태형', 7), ('뷔', 6), ('MPN', 5), ('PledgeForSwachhBharat', 5), ('오늘의방탄', 5), ('BTSLoveYourselfTour', 5), ('BTSinChicago', 5), ('JIMIN', 4), ('เป๊กผลิตโชค', 4), ('시카고1회차공연', 4), ('V', 4), ('PCAs', 4), ('NCT127', 3), ('BTSARMY', 3), ('WajahmuPlastik', 3), ('지민', 3)]\n"
     ]
    }
   ],
   "source": [
    "hashtags = []\n",
    "for line in twitter:\n",
    "    for key in line:\n",
    "        if key == 'entities':\n",
    "            value = line[key]\n",
    "            for key in value:\n",
    "                if key == 'hashtags':\n",
    "                    if value['hashtags'] != []:\n",
    "                        value2 = value['hashtags']\n",
    "                        #print(value2)\n",
    "                        for line in value2:\n",
    "                            for key in line:\n",
    "                                 if key == 'text':\n",
    "                                    hashtags.append(line['text'])\n",
    "                                    \n",
    "number_of_hashtags = collections.Counter(hashtags)\n",
    "list_of_hashtags = list(number_of_hashtags.items())\n",
    "list_of_hashtags.sort(key=lambda i: i[1]) #сортирую список\n",
    "list_of_hashtags = list_of_hashtags[::-1] #переворачиваю его,чтобы было от большего значения к меньшему\n",
    "print('Топ-20 популярных языков хэштегов:', list_of_hashtags[:20])\n",
    "                    \n",
    "                    \n",
    "                    #hashtags.append(value['hashtag'])"
   ]
  },
  {
   "cell_type": "code",
   "execution_count": null,
   "metadata": {},
   "outputs": [],
   "source": []
  },
  {
   "cell_type": "code",
   "execution_count": null,
   "metadata": {},
   "outputs": [],
   "source": []
  }
 ],
 "metadata": {
  "kernelspec": {
   "display_name": "Python 3",
   "language": "python",
   "name": "python3"
  },
  "language_info": {
   "codemirror_mode": {
    "name": "ipython",
    "version": 3
   },
   "file_extension": ".py",
   "mimetype": "text/x-python",
   "name": "python",
   "nbconvert_exporter": "python",
   "pygments_lexer": "ipython3",
   "version": "3.7.3"
  }
 },
 "nbformat": 4,
 "nbformat_minor": 2
}
